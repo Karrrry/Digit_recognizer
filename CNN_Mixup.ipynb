{
 "cells": [
  {
   "cell_type": "code",
   "execution_count": 1,
   "metadata": {},
   "outputs": [],
   "source": [
    "import numpy  as np\n",
    "import pandas as pd\n",
    "import torch\n",
    "import torch.nn as nn\n",
    "from torch.autograd import Variable\n",
    "from scipy.stats import beta\n",
    "from torch.utils.data import TensorDataset,DataLoader,Dataset"
   ]
  },
  {
   "cell_type": "code",
   "execution_count": 2,
   "metadata": {},
   "outputs": [],
   "source": [
    "# Hyper Parameters\n",
    "\n",
    "num_epochs = 5\n",
    "batch_size = 100\n",
    "learning_rate = 0.001"
   ]
  },
  {
   "cell_type": "code",
   "execution_count": 3,
   "metadata": {},
   "outputs": [],
   "source": [
    "# Build CustomedDataset\n",
    "# Separate the given dataset into two parts, four for train and one for test\n",
    "\n",
    "class CustomedDataSet(Dataset):\n",
    "    def __init__(self, train=True):\n",
    "        self.train = train\n",
    "        if self.train :\n",
    "            trainX = pd.read_csv('./train.csv',nrows=33600)\n",
    "            trainY = trainX.label.as_matrix().tolist()\n",
    "            trainX = trainX.drop('label',axis=1).as_matrix().reshape(trainX.shape[0], 1, 28, 28)\n",
    "            self.datalist = trainX\n",
    "            self.labellist = trainY\n",
    "        else:\n",
    "            testX = pd.read_csv('./train.csv')\n",
    "            testX = testX.drop(testX.head(33600).index)\n",
    "            testY = testX.label.as_matrix().tolist()\n",
    "            testX = testX.drop('label',axis=1).as_matrix().reshape(testX.shape[0], 1, 28, 28)\n",
    "            self.datalist = testX\n",
    "            self.labellist = testY\n",
    "            \n",
    "    def __getitem__(self, index):\n",
    "        if self.train:\n",
    "            return torch.Tensor(self.datalist[index].astype(float)),self.labellist[index]\n",
    "        else:\n",
    "            return torch.Tensor(self.datalist[index].astype(float)),self.labellist[index]\n",
    "    \n",
    "    def __len__(self):\n",
    "        return self.datalist.shape[0]"
   ]
  },
  {
   "cell_type": "code",
   "execution_count": 4,
   "metadata": {},
   "outputs": [
    {
     "name": "stderr",
     "output_type": "stream",
     "text": [
      "/home/peng/anaconda3/lib/python3.7/site-packages/ipykernel_launcher.py:9: FutureWarning: Method .as_matrix will be removed in a future version. Use .values instead.\n",
      "  if __name__ == '__main__':\n",
      "/home/peng/anaconda3/lib/python3.7/site-packages/ipykernel_launcher.py:10: FutureWarning: Method .as_matrix will be removed in a future version. Use .values instead.\n",
      "  # Remove the CWD from sys.path while we load stuff.\n",
      "/home/peng/anaconda3/lib/python3.7/site-packages/ipykernel_launcher.py:16: FutureWarning: Method .as_matrix will be removed in a future version. Use .values instead.\n",
      "  app.launch_new_instance()\n",
      "/home/peng/anaconda3/lib/python3.7/site-packages/ipykernel_launcher.py:17: FutureWarning: Method .as_matrix will be removed in a future version. Use .values instead.\n"
     ]
    }
   ],
   "source": [
    "train_dataset = CustomedDataSet()\n",
    "test_dataset  = CustomedDataSet(train=False)"
   ]
  },
  {
   "cell_type": "code",
   "execution_count": 5,
   "metadata": {},
   "outputs": [],
   "source": [
    "train_loader = DataLoader(dataset= train_dataset,batch_size=batch_size,shuffle=False)\n",
    "test_loader  = DataLoader(dataset = test_dataset,batch_size=batch_size,shuffle=False)"
   ]
  },
  {
   "cell_type": "code",
   "execution_count": 6,
   "metadata": {},
   "outputs": [],
   "source": [
    "# CNN Model\n",
    "\n",
    "class CNN(nn.Module):\n",
    "    def __init__(self):\n",
    "        super(CNN, self).__init__()\n",
    "        self.layer1 = nn.Sequential(\n",
    "            nn.Conv2d(1 ,16, kernel_size=5,padding=2),\n",
    "            nn.BatchNorm2d(16),\n",
    "            nn.ReLU(),\n",
    "            nn.MaxPool2d(2))\n",
    "        self.layer2 = nn.Sequential(\n",
    "            nn.Conv2d(16, 32, kernel_size=5,padding=2),\n",
    "            nn.BatchNorm2d(32),\n",
    "            nn.ReLU(),\n",
    "            nn.MaxPool2d(2))\n",
    "        self.fc = nn.Linear(7*7*32, 10)\n",
    "        \n",
    "    def forward(self, x):\n",
    "        out = self.layer1(x)\n",
    "        out = self.layer2(out)\n",
    "        out = out.view(out.size(0), -1)\n",
    "        out = self.fc(out)\n",
    "        return out"
   ]
  },
  {
   "cell_type": "code",
   "execution_count": 7,
   "metadata": {},
   "outputs": [],
   "source": [
    "cnn = CNN()"
   ]
  },
  {
   "cell_type": "code",
   "execution_count": 8,
   "metadata": {},
   "outputs": [],
   "source": [
    "criterion = nn.CrossEntropyLoss()\n",
    "optimizer = torch.optim.Adam(cnn.parameters(),lr=learning_rate)"
   ]
  },
  {
   "cell_type": "code",
   "execution_count": 9,
   "metadata": {},
   "outputs": [],
   "source": [
    "# Mixup input data\n",
    "def mixup_data(x, y,alpha):\n",
    "    lam = np.random.beta(alpha, alpha)\n",
    "    batch_size = x.size()[0]\n",
    "    index = torch.randperm(batch_size)\n",
    "    mixed_x = lam * x + (1 - lam) * x[index,:]\n",
    "    y_a, y_b = y, y[index]\n",
    "    return mixed_x, y_a, y_b, lam"
   ]
  },
  {
   "cell_type": "code",
   "execution_count": 10,
   "metadata": {},
   "outputs": [],
   "source": [
    "# The loss function will change of course\n",
    "def mixup_criterion(y_a, y_b, lam):\n",
    "    return lambda criterion, pred: lam * criterion(pred, y_a) + (1 - lam) * criterion(pred, y_b)"
   ]
  },
  {
   "cell_type": "code",
   "execution_count": 18,
   "metadata": {
    "scrolled": true
   },
   "outputs": [
    {
     "name": "stdout",
     "output_type": "stream",
     "text": [
      "Alpha 0.1, Epoch [1/5], Loss: 0.0230\n",
      "Alpha 0.1, Epoch [2/5], Loss: 0.0184\n",
      "Alpha 0.1, Epoch [3/5], Loss: 0.0182\n",
      "Alpha 0.1, Epoch [4/5], Loss: 0.9425\n",
      "Alpha 0.1, Epoch [5/5], Loss: 0.0131\n",
      "Accu rate at Alpha=0.1: 99.024\n",
      "Alpha 0.2, Epoch [1/5], Loss: 0.5627\n",
      "Alpha 0.2, Epoch [2/5], Loss: 0.0300\n",
      "Alpha 0.2, Epoch [3/5], Loss: 0.9052\n",
      "Alpha 0.2, Epoch [4/5], Loss: 0.8607\n",
      "Alpha 0.2, Epoch [5/5], Loss: 0.6564\n",
      "Accu rate at Alpha=0.2: 98.964\n",
      "Alpha 0.4, Epoch [1/5], Loss: 0.7347\n",
      "Alpha 0.4, Epoch [2/5], Loss: 0.0361\n",
      "Alpha 0.4, Epoch [3/5], Loss: 0.0727\n",
      "Alpha 0.4, Epoch [4/5], Loss: 0.7284\n",
      "Alpha 0.4, Epoch [5/5], Loss: 0.0343\n",
      "Accu rate at Alpha=0.4: 99.060\n",
      "Alpha 0.8, Epoch [1/5], Loss: 0.6801\n",
      "Alpha 0.8, Epoch [2/5], Loss: 0.6122\n",
      "Alpha 0.8, Epoch [3/5], Loss: 0.6418\n",
      "Alpha 0.8, Epoch [4/5], Loss: 0.7891\n",
      "Alpha 0.8, Epoch [5/5], Loss: 0.5389\n",
      "Accu rate at Alpha=0.8: 98.857\n"
     ]
    }
   ],
   "source": [
    "for alpha in [0.1,0.2,0.4,0.8]:\n",
    "    for epoch in range(num_epochs): \n",
    "        for i,(x,y) in enumerate(train_loader):  \n",
    "            images, y_a, y_b, lam = mixup_data(x, y, alpha)\n",
    "            images = Variable(images)\n",
    "            y_a = Variable(y_a)\n",
    "            y_b = Variable(y_b)\n",
    "\n",
    "            optimizer.zero_grad()\n",
    "            outputs = cnn(images)\n",
    "            loss_func = mixup_criterion(y_a, y_b, lam)\n",
    "            loss = loss_func(criterion, outputs)\n",
    "            loss.backward()\n",
    "            optimizer.step()\n",
    "            if (i+1) % 336 == 0:\n",
    "                print ('Alpha %.1f, Epoch [%d/%d], Loss: %.4f' %(alpha, epoch+1, num_epochs, loss.item()))\n",
    "\n",
    "    ans = torch.LongTensor()\n",
    "    for (images,labels) in test_loader:\n",
    "        images = Variable(images)\n",
    "        outputs = cnn(images)\n",
    "        _,predicted = torch.max(outputs.data, 1)\n",
    "        ans = torch.cat((ans,predicted),0)\n",
    "    \n",
    "    ans = ans.numpy()\n",
    "    \n",
    "    corr=0\n",
    "    for i,(images,labels) in enumerate(test_dataset):\n",
    "        if ans[i]==labels:\n",
    "            corr=corr+1\n",
    "    print(\"Accu rate at Alpha=%.1f: %.3f\"%(alpha,corr/84))"
   ]
  },
  {
   "cell_type": "code",
   "execution_count": null,
   "metadata": {},
   "outputs": [],
   "source": []
  }
 ],
 "metadata": {
  "kernelspec": {
   "display_name": "Python 3",
   "language": "python",
   "name": "python3"
  },
  "language_info": {
   "codemirror_mode": {
    "name": "ipython",
    "version": 3
   },
   "file_extension": ".py",
   "mimetype": "text/x-python",
   "name": "python",
   "nbconvert_exporter": "python",
   "pygments_lexer": "ipython3",
   "version": "3.7.1"
  }
 },
 "nbformat": 4,
 "nbformat_minor": 2
}
