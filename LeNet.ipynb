{
 "cells": [
  {
   "cell_type": "code",
   "execution_count": 5,
   "metadata": {},
   "outputs": [],
   "source": [
    "import torch\n",
    "from torchvision.datasets import MNIST\n",
    "from torchvision import transforms\n",
    "from torch import optim\n",
    "import torch.nn as nn\n",
    "import pandas as pd\n",
    "from torch.utils.data import DataLoader,Dataset\n",
    "from torch.autograd import Variable"
   ]
  },
  {
   "cell_type": "code",
   "execution_count": 6,
   "metadata": {},
   "outputs": [],
   "source": [
    "# Build CustomedDataset\n",
    "# Separate the given dataset into two parts, four for train and one for test\n",
    "\n",
    "class CustomedDataSet(Dataset):\n",
    "    def __init__(self, train=True):\n",
    "        self.train = train\n",
    "        if self.train :\n",
    "            trainX = pd.read_csv('./train.csv',nrows=33600)\n",
    "            trainY = trainX.label.as_matrix().tolist()\n",
    "            trainX = trainX.drop('label',axis=1).as_matrix().reshape(trainX.shape[0], 1, 28, 28)\n",
    "            self.datalist = trainX\n",
    "            self.labellist = trainY\n",
    "        else:\n",
    "            testX = pd.read_csv('./train.csv')\n",
    "            testX = testX.drop(testX.head(33600).index)\n",
    "            testY = testX.label.as_matrix().tolist()\n",
    "            testX = testX.drop('label',axis=1).as_matrix().reshape(testX.shape[0], 1, 28, 28)\n",
    "            self.datalist = testX\n",
    "            self.labellist = testY\n",
    "            \n",
    "    def __getitem__(self, index):\n",
    "        if self.train:\n",
    "            return torch.Tensor(self.datalist[index].astype(float)),self.labellist[index]\n",
    "        else:\n",
    "            return torch.Tensor(self.datalist[index].astype(float)),self.labellist[index]\n",
    "    \n",
    "    def __len__(self):\n",
    "        return self.datalist.shape[0]"
   ]
  },
  {
   "cell_type": "code",
   "execution_count": 7,
   "metadata": {},
   "outputs": [],
   "source": [
    "# Hyper parameters\n",
    "batch_size = 100\n",
    "learning_rate = 1e-2\n",
    "epoches = 5"
   ]
  },
  {
   "cell_type": "code",
   "execution_count": 8,
   "metadata": {},
   "outputs": [
    {
     "name": "stderr",
     "output_type": "stream",
     "text": [
      "/home/peng/anaconda3/lib/python3.7/site-packages/ipykernel_launcher.py:6: FutureWarning: Method .as_matrix will be removed in a future version. Use .values instead.\n",
      "  \n",
      "/home/peng/anaconda3/lib/python3.7/site-packages/ipykernel_launcher.py:7: FutureWarning: Method .as_matrix will be removed in a future version. Use .values instead.\n",
      "  import sys\n",
      "/home/peng/anaconda3/lib/python3.7/site-packages/ipykernel_launcher.py:13: FutureWarning: Method .as_matrix will be removed in a future version. Use .values instead.\n",
      "  del sys.path[0]\n",
      "/home/peng/anaconda3/lib/python3.7/site-packages/ipykernel_launcher.py:14: FutureWarning: Method .as_matrix will be removed in a future version. Use .values instead.\n",
      "  \n"
     ]
    }
   ],
   "source": [
    "train_dataset = CustomedDataSet()\n",
    "test_dataset  = CustomedDataSet(train=False)\n",
    "train_loader  = DataLoader(dataset=train_dataset,batch_size=batch_size,shuffle=True,num_workers=2)\n",
    "test_loader   = DataLoader(dataset= test_dataset,batch_size=batch_size,shuffle=False)"
   ]
  },
  {
   "cell_type": "code",
   "execution_count": 9,
   "metadata": {},
   "outputs": [],
   "source": [
    "# LeNet model\n",
    "\n",
    "class LeNet(nn.Module):\n",
    "    def __init__(self):\n",
    "        super(LeNet, self).__init__()\n",
    "        self.conv=nn.Sequential(\n",
    "            nn.Conv2d(1,6,5,stride=1,padding=2),\n",
    "            nn.ReLU(),\n",
    "            nn.MaxPool2d(2,2),\n",
    "            nn.Conv2d(6,16,5,stride=1,padding=2),\n",
    "            nn.ReLU(),\n",
    "            nn.MaxPool2d(2,2),\n",
    "            nn.Conv2d(16,120,5,stride=1,padding=2),\n",
    "            nn.ReLU(),\n",
    "        )\n",
    "        self.fc=nn.Sequential(          # Fully connected layer\n",
    "            nn.Linear(7*7*120,120),\n",
    "            nn.ReLU(),\n",
    "            nn.Linear(120, 84),\n",
    "            nn.ReLU(),\n",
    "            nn.Linear(84,10),\n",
    "            nn.Sigmoid(),\n",
    "        )\n",
    "    def forward(self, x):\n",
    "        out=self.conv(x)\n",
    "        out=out.view(out.size(0),-1)\n",
    "        out=self.fc(out)\n",
    "        return out"
   ]
  },
  {
   "cell_type": "code",
   "execution_count": 10,
   "metadata": {},
   "outputs": [],
   "source": [
    "lenet = LeNet()  # network"
   ]
  },
  {
   "cell_type": "code",
   "execution_count": 11,
   "metadata": {},
   "outputs": [],
   "source": [
    "criterian = nn.CrossEntropyLoss() \n",
    "optimizer = optim.SGD(lenet.parameters(), lr=learning_rate)"
   ]
  },
  {
   "cell_type": "code",
   "execution_count": 12,
   "metadata": {
    "scrolled": false
   },
   "outputs": [
    {
     "name": "stdout",
     "output_type": "stream",
     "text": [
      "Epoch [1/5], Iter [112/336] Loss: 1.5954\n",
      "Epoch [1/5], Iter [224/336] Loss: 1.5665\n",
      "Epoch [1/5], Iter [336/336] Loss: 1.5119\n",
      "Epoch [2/5], Iter [112/336] Loss: 1.5054\n",
      "Epoch [2/5], Iter [224/336] Loss: 1.5418\n",
      "Epoch [2/5], Iter [336/336] Loss: 1.5054\n",
      "Epoch [3/5], Iter [112/336] Loss: 1.4894\n",
      "Epoch [3/5], Iter [224/336] Loss: 1.4931\n",
      "Epoch [3/5], Iter [336/336] Loss: 1.4843\n",
      "Epoch [4/5], Iter [112/336] Loss: 1.4996\n",
      "Epoch [4/5], Iter [224/336] Loss: 1.5399\n",
      "Epoch [4/5], Iter [336/336] Loss: 1.4744\n",
      "Epoch [5/5], Iter [112/336] Loss: 1.4854\n",
      "Epoch [5/5], Iter [224/336] Loss: 1.4886\n",
      "Epoch [5/5], Iter [336/336] Loss: 1.4700\n"
     ]
    }
   ],
   "source": [
    "for epoch in range(epoches):\n",
    "    for i, (img,label) in enumerate(train_loader):\n",
    "        optimizer.zero_grad()\n",
    "        img = Variable(img)\n",
    "        label = Variable(label)\n",
    "\n",
    "        output=lenet(img)\n",
    "        loss=criterian(output,label)\n",
    "        loss.backward()\n",
    "        optimizer.step()\n",
    "        if (i+1) % 112 == 0:\n",
    "            print ('Epoch [%d/%d], Iter [%d/%d] Loss: %.4f' %(epoch+1, epoches, i+1, \n",
    "                                                              len(train_dataset)//batch_size, loss.item()))"
   ]
  },
  {
   "cell_type": "code",
   "execution_count": 13,
   "metadata": {},
   "outputs": [],
   "source": [
    "ans = torch.LongTensor()"
   ]
  },
  {
   "cell_type": "code",
   "execution_count": 14,
   "metadata": {},
   "outputs": [],
   "source": [
    "for (images,labels) in test_loader:\n",
    "    images = Variable(images)\n",
    "    outputs = lenet(images)\n",
    "    _,predicted = torch.max(outputs.data, 1)\n",
    "    ans = torch.cat((ans,predicted),0)"
   ]
  },
  {
   "cell_type": "code",
   "execution_count": 15,
   "metadata": {},
   "outputs": [],
   "source": [
    "ans = ans.numpy()"
   ]
  },
  {
   "cell_type": "code",
   "execution_count": 16,
   "metadata": {},
   "outputs": [
    {
     "name": "stdout",
     "output_type": "stream",
     "text": [
      "97.631\n"
     ]
    }
   ],
   "source": [
    "corr=0\n",
    "for i,(images,labels) in enumerate(test_dataset):\n",
    "    if ans[i]==labels:\n",
    "        corr=corr+1\n",
    "print(\"%.3F\"%(corr/84))"
   ]
  },
  {
   "cell_type": "code",
   "execution_count": null,
   "metadata": {},
   "outputs": [],
   "source": []
  }
 ],
 "metadata": {
  "kernelspec": {
   "display_name": "Python 3",
   "language": "python",
   "name": "python3"
  },
  "language_info": {
   "codemirror_mode": {
    "name": "ipython",
    "version": 3
   },
   "file_extension": ".py",
   "mimetype": "text/x-python",
   "name": "python",
   "nbconvert_exporter": "python",
   "pygments_lexer": "ipython3",
   "version": "3.7.1"
  }
 },
 "nbformat": 4,
 "nbformat_minor": 2
}
